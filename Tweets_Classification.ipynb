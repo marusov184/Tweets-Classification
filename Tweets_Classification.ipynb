{
 "cells": [
  {
   "cell_type": "markdown",
   "metadata": {},
   "source": [
    "# Проект для «Викишоп»"
   ]
  },
  {
   "cell_type": "markdown",
   "metadata": {},
   "source": [
    "Интернет-магазин «Викишоп» запускает новый сервис. Теперь пользователи могут редактировать и дополнять описания товаров, как в вики-сообществах. То есть клиенты предлагают свои правки и комментируют изменения других. Магазину нужен инструмент, который будет искать токсичные комментарии и отправлять их на модерацию. \n",
    "\n",
    "Обучите модель классифицировать комментарии на позитивные и негативные. В вашем распоряжении набор данных с разметкой о токсичности правок.\n",
    "\n",
    "Постройте модель со значением метрики качества *F1* не меньше 0.75. \n",
    "\n",
    "**Инструкция по выполнению проекта**\n",
    "\n",
    "1. Загрузите и подготовьте данные.\n",
    "2. Обучите разные модели. \n",
    "3. Сделайте выводы.\n",
    "\n",
    "Для выполнения проекта применять *BERT* необязательно, но вы можете попробовать.\n",
    "\n",
    "**Описание данных**\n",
    "\n",
    "Данные находятся в файле `toxic_comments.csv`. Столбец *text* в нём содержит текст комментария, а *toxic* — целевой признак."
   ]
  },
  {
   "cell_type": "markdown",
   "metadata": {},
   "source": [
    "## Подготовка"
   ]
  },
  {
   "cell_type": "markdown",
   "metadata": {},
   "source": [
    "Загрузим необходимые нам библиотеки и посмотрим на данные. "
   ]
  },
  {
   "cell_type": "code",
   "execution_count": 19,
   "metadata": {},
   "outputs": [],
   "source": [
    "import re\n",
    "import pandas as pd\n",
    "import numpy as np\n",
    "import matplotlib.pyplot as plt\n",
    "plt.style.use('ggplot')\n",
    "\n",
    "import nltk\n",
    "from nltk.stem import WordNetLemmatizer\n",
    "\n",
    "\n",
    "from sklearn.feature_extraction.text import TfidfVectorizer\n",
    "from sklearn.model_selection import train_test_split\n",
    "from sklearn.metrics import f1_score\n",
    "from sklearn.tree import DecisionTreeClassifier\n",
    "from sklearn.linear_model import LogisticRegression\n",
    "\n",
    "import lightgbm as lgb\n",
    "\n",
    "\n",
    "import warnings\n",
    "warnings.filterwarnings(\"ignore\", category=DeprecationWarning)"
   ]
  },
  {
   "cell_type": "code",
   "execution_count": 2,
   "metadata": {},
   "outputs": [
    {
     "name": "stderr",
     "output_type": "stream",
     "text": [
      "[nltk_data] Downloading package wordnet to\n",
      "[nltk_data]     C:\\Users\\dkiro\\AppData\\Roaming\\nltk_data...\n",
      "[nltk_data]   Package wordnet is already up-to-date!\n"
     ]
    },
    {
     "data": {
      "text/plain": [
       "True"
      ]
     },
     "execution_count": 2,
     "metadata": {},
     "output_type": "execute_result"
    }
   ],
   "source": [
    "stop_words = nltk.corpus.stopwords.words('english')\n",
    "nltk.download('wordnet')\n"
   ]
  },
  {
   "cell_type": "code",
   "execution_count": 3,
   "metadata": {
    "scrolled": true
   },
   "outputs": [],
   "source": [
    "df = pd.read_csv(r'C:\\Users\\dkiro\\Desktop\\проект\\toxic_comments.csv')\n"
   ]
  },
  {
   "cell_type": "code",
   "execution_count": 4,
   "metadata": {},
   "outputs": [
    {
     "data": {
      "text/html": [
       "<div>\n",
       "<style scoped>\n",
       "    .dataframe tbody tr th:only-of-type {\n",
       "        vertical-align: middle;\n",
       "    }\n",
       "\n",
       "    .dataframe tbody tr th {\n",
       "        vertical-align: top;\n",
       "    }\n",
       "\n",
       "    .dataframe thead th {\n",
       "        text-align: right;\n",
       "    }\n",
       "</style>\n",
       "<table border=\"1\" class=\"dataframe\">\n",
       "  <thead>\n",
       "    <tr style=\"text-align: right;\">\n",
       "      <th></th>\n",
       "      <th>text</th>\n",
       "      <th>toxic</th>\n",
       "    </tr>\n",
       "  </thead>\n",
       "  <tbody>\n",
       "    <tr>\n",
       "      <th>0</th>\n",
       "      <td>Explanation\\nWhy the edits made under my usern...</td>\n",
       "      <td>0</td>\n",
       "    </tr>\n",
       "    <tr>\n",
       "      <th>1</th>\n",
       "      <td>D'aww! He matches this background colour I'm s...</td>\n",
       "      <td>0</td>\n",
       "    </tr>\n",
       "    <tr>\n",
       "      <th>2</th>\n",
       "      <td>Hey man, I'm really not trying to edit war. It...</td>\n",
       "      <td>0</td>\n",
       "    </tr>\n",
       "    <tr>\n",
       "      <th>3</th>\n",
       "      <td>\"\\nMore\\nI can't make any real suggestions on ...</td>\n",
       "      <td>0</td>\n",
       "    </tr>\n",
       "    <tr>\n",
       "      <th>4</th>\n",
       "      <td>You, sir, are my hero. Any chance you remember...</td>\n",
       "      <td>0</td>\n",
       "    </tr>\n",
       "  </tbody>\n",
       "</table>\n",
       "</div>"
      ],
      "text/plain": [
       "                                                text  toxic\n",
       "0  Explanation\\nWhy the edits made under my usern...      0\n",
       "1  D'aww! He matches this background colour I'm s...      0\n",
       "2  Hey man, I'm really not trying to edit war. It...      0\n",
       "3  \"\\nMore\\nI can't make any real suggestions on ...      0\n",
       "4  You, sir, are my hero. Any chance you remember...      0"
      ]
     },
     "execution_count": 4,
     "metadata": {},
     "output_type": "execute_result"
    }
   ],
   "source": [
    "df.head()"
   ]
  },
  {
   "cell_type": "markdown",
   "metadata": {},
   "source": [
    "Посмотрим на соотношение токсичных и нормальных комментариев в датасете. "
   ]
  },
  {
   "cell_type": "code",
   "execution_count": 20,
   "metadata": {},
   "outputs": [
    {
     "data": {
      "image/png": "[encoded data removed]",
      "text/plain": [
       "<Figure size 432x288 with 1 Axes>"
      ]
     },
     "metadata": {},
     "output_type": "display_data"
    }
   ],
   "source": [
    "(df.toxic.value_counts(normalize = True) * 100).plot(kind = 'bar',\n",
    "                                                     title = 'Normal to toxic relation');\n",
    "plt.ylabel('Percentage, %', fontsize = 'large');"
   ]
  },
  {
   "cell_type": "markdown",
   "metadata": {},
   "source": [
    "На диаграмме можно заметить, что токсичных комментариев в разы меньше, чем обычных. С точки зрения моделирования это не очень хорошо, поэтому будем учитывать этот момент подборе оптимальных моделей."
   ]
  },
  {
   "cell_type": "markdown",
   "metadata": {},
   "source": [
    "Очистим столбец с текстом от всего лишнего. Уберем все символы, кроме английских и затем лемматизируем их, убрав стоп-слова."
   ]
  },
  {
   "cell_type": "code",
   "execution_count": 6,
   "metadata": {},
   "outputs": [],
   "source": [
    "m = WordNetLemmatizer()"
   ]
  },
  {
   "cell_type": "code",
   "execution_count": 7,
   "metadata": {},
   "outputs": [],
   "source": [
    "def clear_text(text):\n",
    "    text = (re.sub(r'[^a-zA-Z]', ' ', text)).split(' ')\n",
    "    text = ' '.join([word for word in text if word not in stop_words])\n",
    "    text = ' '.join([m.lemmatize(word) for word in text.split()])\n",
    "    return text"
   ]
  },
  {
   "cell_type": "markdown",
   "metadata": {},
   "source": [
    "Применим функцию clear_text к столбцу *text*."
   ]
  },
  {
   "cell_type": "code",
   "execution_count": 8,
   "metadata": {},
   "outputs": [],
   "source": [
    "df['lemmed_text'] = df['text'].apply(clear_text)"
   ]
  },
  {
   "cell_type": "code",
   "execution_count": 9,
   "metadata": {},
   "outputs": [
    {
     "data": {
      "text/html": [
       "<div>\n",
       "<style scoped>\n",
       "    .dataframe tbody tr th:only-of-type {\n",
       "        vertical-align: middle;\n",
       "    }\n",
       "\n",
       "    .dataframe tbody tr th {\n",
       "        vertical-align: top;\n",
       "    }\n",
       "\n",
       "    .dataframe thead th {\n",
       "        text-align: right;\n",
       "    }\n",
       "</style>\n",
       "<table border=\"1\" class=\"dataframe\">\n",
       "  <thead>\n",
       "    <tr style=\"text-align: right;\">\n",
       "      <th></th>\n",
       "      <th>text</th>\n",
       "      <th>toxic</th>\n",
       "      <th>lemmed_text</th>\n",
       "    </tr>\n",
       "  </thead>\n",
       "  <tbody>\n",
       "    <tr>\n",
       "      <th>0</th>\n",
       "      <td>Explanation\\nWhy the edits made under my usern...</td>\n",
       "      <td>0</td>\n",
       "      <td>Explanation Why edits made username Hardcore M...</td>\n",
       "    </tr>\n",
       "    <tr>\n",
       "      <th>1</th>\n",
       "      <td>D'aww! He matches this background colour I'm s...</td>\n",
       "      <td>0</td>\n",
       "      <td>D aww He match background colour I seemingly s...</td>\n",
       "    </tr>\n",
       "    <tr>\n",
       "      <th>2</th>\n",
       "      <td>Hey man, I'm really not trying to edit war. It...</td>\n",
       "      <td>0</td>\n",
       "      <td>Hey man I really trying edit war It guy consta...</td>\n",
       "    </tr>\n",
       "    <tr>\n",
       "      <th>3</th>\n",
       "      <td>\"\\nMore\\nI can't make any real suggestions on ...</td>\n",
       "      <td>0</td>\n",
       "      <td>More I make real suggestion improvement I wond...</td>\n",
       "    </tr>\n",
       "    <tr>\n",
       "      <th>4</th>\n",
       "      <td>You, sir, are my hero. Any chance you remember...</td>\n",
       "      <td>0</td>\n",
       "      <td>You sir hero Any chance remember page</td>\n",
       "    </tr>\n",
       "    <tr>\n",
       "      <th>5</th>\n",
       "      <td>\"\\n\\nCongratulations from me as well, use the ...</td>\n",
       "      <td>0</td>\n",
       "      <td>Congratulations well use tool well talk</td>\n",
       "    </tr>\n",
       "    <tr>\n",
       "      <th>6</th>\n",
       "      <td>COCKSUCKER BEFORE YOU PISS AROUND ON MY WORK</td>\n",
       "      <td>1</td>\n",
       "      <td>COCKSUCKER BEFORE YOU PISS AROUND ON MY WORK</td>\n",
       "    </tr>\n",
       "    <tr>\n",
       "      <th>7</th>\n",
       "      <td>Your vandalism to the Matt Shirvington article...</td>\n",
       "      <td>0</td>\n",
       "      <td>Your vandalism Matt Shirvington article revert...</td>\n",
       "    </tr>\n",
       "  </tbody>\n",
       "</table>\n",
       "</div>"
      ],
      "text/plain": [
       "                                                text  toxic  \\\n",
       "0  Explanation\\nWhy the edits made under my usern...      0   \n",
       "1  D'aww! He matches this background colour I'm s...      0   \n",
       "2  Hey man, I'm really not trying to edit war. It...      0   \n",
       "3  \"\\nMore\\nI can't make any real suggestions on ...      0   \n",
       "4  You, sir, are my hero. Any chance you remember...      0   \n",
       "5  \"\\n\\nCongratulations from me as well, use the ...      0   \n",
       "6       COCKSUCKER BEFORE YOU PISS AROUND ON MY WORK      1   \n",
       "7  Your vandalism to the Matt Shirvington article...      0   \n",
       "\n",
       "                                         lemmed_text  \n",
       "0  Explanation Why edits made username Hardcore M...  \n",
       "1  D aww He match background colour I seemingly s...  \n",
       "2  Hey man I really trying edit war It guy consta...  \n",
       "3  More I make real suggestion improvement I wond...  \n",
       "4              You sir hero Any chance remember page  \n",
       "5            Congratulations well use tool well talk  \n",
       "6       COCKSUCKER BEFORE YOU PISS AROUND ON MY WORK  \n",
       "7  Your vandalism Matt Shirvington article revert...  "
      ]
     },
     "execution_count": 9,
     "metadata": {},
     "output_type": "execute_result"
    }
   ],
   "source": [
    "df.head(8)"
   ]
  },
  {
   "cell_type": "code",
   "execution_count": 10,
   "metadata": {},
   "outputs": [],
   "source": [
    "df_train, df_val_test = train_test_split(df, test_size = 0.4,\n",
    "                                         random_state = 123)\n",
    "\n",
    "df_val, df_test = train_test_split(df_val_test, test_size = 0.5,\n",
    "                                   random_state = 123)"
   ]
  },
  {
   "cell_type": "code",
   "execution_count": 11,
   "metadata": {},
   "outputs": [],
   "source": [
    "X_train = df_train.lemmed_text.values # обучающая выборка \n",
    "y_train = df_train.toxic.values\n",
    "\n",
    "X_val = df_val.lemmed_text.values # валидационная выборка\n",
    "y_val = df_val.toxic.values\n",
    "\n",
    "X_test = df_test.lemmed_text.values  # тестовая выборка \n",
    "y_test = df_test.toxic.values"
   ]
  },
  {
   "cell_type": "markdown",
   "metadata": {},
   "source": [
    "## Обучение"
   ]
  },
  {
   "cell_type": "markdown",
   "metadata": {},
   "source": [
    "Переведем тесты из твиттера в векторный формат с помощью TF-IDF меры. В этой модели вес некоторого слова пропорционален частоте употребления этого слова в документе и обратно пропорционален частоте употребления слова во всех документах коллекции"
   ]
  },
  {
   "cell_type": "code",
   "execution_count": 12,
   "metadata": {},
   "outputs": [],
   "source": [
    "tf_idf = TfidfVectorizer(stop_words = stop_words)"
   ]
  },
  {
   "cell_type": "code",
   "execution_count": 13,
   "metadata": {},
   "outputs": [],
   "source": [
    "train_tf_idf = tf_idf.fit_transform(X_train)\n",
    "val_tf_idf = tf_idf.transform(X_val)\n",
    "test_tf_idf = tf_idf.transform(X_test)"
   ]
  },
  {
   "cell_type": "code",
   "execution_count": 14,
   "metadata": {},
   "outputs": [
    {
     "name": "stdout",
     "output_type": "stream",
     "text": [
      "Размерность тренировочного набора данных: (95742, 121254)\n",
      "Размерность валидационного набора данных: (31914, 121254)\n",
      "Размерность тестового набора данных: (31915, 121254)\n"
     ]
    }
   ],
   "source": [
    "print('Размерность тренировочного набора данных:', train_tf_idf.shape)\n",
    "print('Размерность валидационного набора данных:', val_tf_idf.shape)\n",
    "print('Размерность тестового набора данных:', test_tf_idf.shape)\n"
   ]
  },
  {
   "cell_type": "markdown",
   "metadata": {},
   "source": [
    "Обучим модель логистической регрессии на тренировочном корпусе и проверим качество модели на валидационной выборке. Модель с наибольшим F1_val будет считаться наилучшей. Зафиксируем max_iter = 300 и будем менять параметр C, отвечающий за регуляризацию регрессии. Поскольку классы у нас несбалансированные, поставим параметр class_weight='balanced'."
   ]
  },
  {
   "cell_type": "code",
   "execution_count": 15,
   "metadata": {},
   "outputs": [
    {
     "name": "stdout",
     "output_type": "stream",
     "text": [
      " С = 1.0 | F1_val = 0.7369\n",
      " С = 1.44 | F1_val = 0.7443\n",
      " С = 1.89 | F1_val = 0.7466\n",
      " С = 2.33 | F1_val = 0.7483\n",
      " С = 2.78 | F1_val = 0.7495\n",
      " С = 3.22 | F1_val = 0.7512\n",
      " С = 3.67 | F1_val = 0.7528\n",
      " С = 4.11 | F1_val = 0.7522\n",
      " С = 4.56 | F1_val = 0.7513\n",
      " С = 5.0 | F1_val = 0.7516\n",
      "Лучшая модель логистической регрессии: LogisticRegression(C=3.6666666666666665, class_weight='balanced', max_iter=300,\n",
      "                   random_state=123)\n"
     ]
    }
   ],
   "source": [
    "best_model_lg = None\n",
    "best_f1 = 0\n",
    "\n",
    "for c in np.linspace(1, 5, 10):\n",
    "    model = LogisticRegression(max_iter=300,\n",
    "                               C = c,\n",
    "                               random_state=123,\n",
    "                               class_weight='balanced')\n",
    "    \n",
    "    model.fit(train_tf_idf, y_train)\n",
    "    predictions = model.predict(val_tf_idf)\n",
    "    val_f1_score = f1_score(y_val, predictions)\n",
    "    \n",
    "    if val_f1_score > best_f1:\n",
    "        best_f1 = val_f1_score\n",
    "        best_model_lg = model\n",
    "        \n",
    "    print(f' С = {round(c, 2)} | F1_val = {round(val_f1_score, 4)}')\n",
    "    \n",
    "print('Лучшая модель логистической регрессии:', best_model_lg)"
   ]
  },
  {
   "cell_type": "markdown",
   "metadata": {},
   "source": [
    "Можно заметить, что с ростом параметра C, значение метрики F1 также растет какое-то время. Однако после значения С=3.67, F1 на валидации падает. Соответственно, при значении C=3.67 F1 на валидации наибольший, это и будет оптимальная модель логистической регрессии.\n",
    "\n",
    "Теперь аналогичным образом проверим работу алгоритма дерева решений на наших данных, только в этот раз будем менять глубину деревa и также, как и с логистичекой регрессией, поставим class_weight='balanced'."
   ]
  },
  {
   "cell_type": "code",
   "execution_count": 16,
   "metadata": {},
   "outputs": [
    {
     "name": "stdout",
     "output_type": "stream",
     "text": [
      " max_depth = 6 | F1_val = 0.4794\n",
      " max_depth = 9 | F1_val = 0.5409\n",
      " max_depth = 12 | F1_val = 0.5819\n",
      " max_depth = 15 | F1_val = 0.6092\n",
      " max_depth = 18 | F1_val = 0.5965\n",
      " max_depth = 21 | F1_val = 0.6134\n",
      " max_depth = 24 | F1_val = 0.6258\n",
      "Лучшая модель дерева решений: DecisionTreeClassifier(class_weight='balanced', max_depth=24, random_state=123)\n"
     ]
    }
   ],
   "source": [
    "best_model_dtr = None\n",
    "best_f1 = 0\n",
    "\n",
    "for depth in range(6, 26, 3):\n",
    "    model = DecisionTreeClassifier(max_depth = depth,\n",
    "                                   random_state=123,\n",
    "                                   class_weight='balanced')\n",
    "    \n",
    "    model.fit(train_tf_idf, y_train)\n",
    "    predictions = model.predict(val_tf_idf)\n",
    "    val_f1_score = f1_score(y_val, predictions)\n",
    "    \n",
    "    if val_f1_score > best_f1:\n",
    "        best_f1 = val_f1_score\n",
    "        best_model_dtr = model\n",
    "    print(f' max_depth = {depth} | F1_val = {round(val_f1_score, 4)}')\n",
    "    \n",
    "print('Лучшая модель дерева решений:',best_model_dtr )"
   ]
  },
  {
   "cell_type": "markdown",
   "metadata": {},
   "source": [
    "C увеличением максимальной глубины дерева F1 также растет. Однако значение метрики меньше, чем для логистической регрессии, соответственно, модель предсказывает классы твиттов хуже. Кроме того модель дольше обучается.\n",
    "\n",
    "Проверим наконец модель градиентного бустинга. В качестве изменяющегося параметра возьмем learning_rate."
   ]
  },
  {
   "cell_type": "code",
   "execution_count": 17,
   "metadata": {},
   "outputs": [
    {
     "name": "stdout",
     "output_type": "stream",
     "text": [
      " learting_rate = 0.01 | F1_val = 0.6377\n",
      " learting_rate = 0.1 | F1_val = 0.723\n",
      " learting_rate = 0.5 | F1_val = 0.745\n",
      " learting_rate = 0.9 | F1_val = 0.7195\n",
      "Лучшая модель градиентного бустинга: LGBMClassifier(class_weight='balanced', learning_rate=0.5, max_depth=13,\n",
      "               random_state=123)\n"
     ]
    }
   ],
   "source": [
    "learning_rate_gb = [\n",
    "    0.01, 0.1,\n",
    "    0.5, 0.9\n",
    "]\n",
    "\n",
    "best_model_gb = None\n",
    "best_f1 = 0\n",
    "\n",
    "for rate in learning_rate_gb:\n",
    "    model = lgb.LGBMClassifier(random_state = 123,\n",
    "                               max_depth = 13,\n",
    "                               learning_rate = rate,\n",
    "                               class_weight = 'balanced')\n",
    "    \n",
    "    model.fit(train_tf_idf, y_train)\n",
    "    predictions = model.predict(val_tf_idf)\n",
    "    val_f1_score = f1_score(y_val, predictions)\n",
    "    \n",
    "    if val_f1_score > best_f1:\n",
    "        best_f1 = val_f1_score\n",
    "        best_model_gb = model\n",
    "    print(f' learting_rate = {rate} | F1_val = {round(val_f1_score, 4)}')\n",
    "    \n",
    "print('Лучшая модель градиентного бустинга:', best_model_gb)"
   ]
  },
  {
   "cell_type": "markdown",
   "metadata": {},
   "source": [
    "C ростом learning_rate значение метрики F1 также растет какое-то время. Однако после rate = 0.5, F1 на валидации падает. Соответственно, при значении rate = 0.5 F1 на валидации наибольший, это и будет оптимальная модель градиентного бустинга.\n",
    "\n",
    "Сравним качество всех трех моделей с лучшими параметрами на тесте."
   ]
  },
  {
   "cell_type": "code",
   "execution_count": 18,
   "metadata": {},
   "outputs": [
    {
     "name": "stdout",
     "output_type": "stream",
     "text": [
      "F1_test_lg: 0.763\n",
      "F1_test_dtr: 0.609\n",
      "F1_test_gb: 0.748\n"
     ]
    }
   ],
   "source": [
    "predict_lg = best_model_lg.predict(test_tf_idf)\n",
    "test_f1_lg = f1_score(y_test, predict_lg)\n",
    "\n",
    "\n",
    "predict_dtr = best_model_dtr.predict(test_tf_idf)\n",
    "test_f1_dtr = f1_score(y_test, predict_dtr)\n",
    "\n",
    "\n",
    "predict_gb = best_model_gb.predict(test_tf_idf)\n",
    "test_f1_gb = f1_score(y_test, predict_gb)\n",
    "\n",
    "\n",
    "print('F1_test_lg:', round(test_f1_lg, 3))\n",
    "print('F1_test_dtr:', round(test_f1_dtr, 3))\n",
    "print('F1_test_gb:', round(test_f1_gb, 3))\n"
   ]
  },
  {
   "cell_type": "markdown",
   "metadata": {},
   "source": [
    "## Выводы"
   ]
  },
  {
   "cell_type": "markdown",
   "metadata": {},
   "source": [
    "Мы очистили твитты от лишних символов и привели каждое слово твитта к исходной форме - лемме. Затем было проверено три модели с различными гипер параметрами: логистическая регрессия, дерево решений и градиентный бустинг. \n",
    "\n",
    "Лучшей моделью как по скорости, так и по качеству модели на тестовой выборке стала логистическая регрессия с параметрами max_iter=300 и С = 3.67. F1 на тестовой выборке составил 0.763, что больше 0.75. Значит, с поставленной задачей мы справились."
   ]
  }
 ],
 "metadata": {
  "kernelspec": {
   "display_name": "Python 3",
   "language": "python",
   "name": "python3"
  },
  "language_info": {
   "codemirror_mode": {
    "name": "ipython",
    "version": 3
   },
   "file_extension": ".py",
   "mimetype": "text/x-python",
   "name": "python",
   "nbconvert_exporter": "python",
   "pygments_lexer": "ipython3",
   "version": "3.8.3"
  },
  "toc": {
   "base_numbering": 1,
   "nav_menu": {},
   "number_sections": true,
   "sideBar": true,
   "skip_h1_title": true,
   "title_cell": "Содержание",
   "title_sidebar": "Contents",
   "toc_cell": true,
   "toc_position": {
    "height": "calc(100% - 180px)",
    "left": "10px",
    "top": "150px",
    "width": "302.391px"
   },
   "toc_section_display": true,
   "toc_window_display": false
  }
 },
 "nbformat": 4,
 "nbformat_minor": 2
}
